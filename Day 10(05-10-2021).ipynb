{
 "cells": [
  {
   "cell_type": "markdown",
   "metadata": {},
   "source": [
    "# String Functions:\n",
    "- Upper() -->Converts the given string into Upper Case\n",
    "- Lower() -->Converts The given String Into lower Case"
   ]
  },
  {
   "cell_type": "code",
   "execution_count": 1,
   "metadata": {},
   "outputs": [
    {
     "name": "stdout",
     "output_type": "stream",
     "text": [
      "PYTHON\n"
     ]
    }
   ],
   "source": [
    "s = \"Python\"\n",
    "print(s.upper())"
   ]
  },
  {
   "cell_type": "code",
   "execution_count": 3,
   "metadata": {},
   "outputs": [
    {
     "name": "stdout",
     "output_type": "stream",
     "text": [
      "python\n"
     ]
    }
   ],
   "source": [
    "s1 = \"Python\"\n",
    "print(s1.lower())"
   ]
  },
  {
   "cell_type": "markdown",
   "metadata": {},
   "source": [
    "# String Methods:\n",
    "- Join()\n",
    "- Split()\n",
    "- Replace()"
   ]
  },
  {
   "cell_type": "code",
   "execution_count": 6,
   "metadata": {},
   "outputs": [
    {
     "name": "stdout",
     "output_type": "stream",
     "text": [
      "P y t h o n\n",
      "P@y@t@h@o@n\n"
     ]
    }
   ],
   "source": [
    "# Join Method:\n",
    "s = \"Python\"\n",
    "print(\" \".join(s))\n",
    "print(\"@\".join(s))"
   ]
  },
  {
   "cell_type": "code",
   "execution_count": 7,
   "metadata": {},
   "outputs": [
    {
     "name": "stdout",
     "output_type": "stream",
     "text": [
      "['Python', 'is', 'Simple', 'Programming', 'Language']\n"
     ]
    }
   ],
   "source": [
    "#Split Method:\n",
    "s1 = \"Python is Simple Programming Language\"\n",
    "print(s1.split())"
   ]
  },
  {
   "cell_type": "code",
   "execution_count": 8,
   "metadata": {},
   "outputs": [
    {
     "name": "stdout",
     "output_type": "stream",
     "text": [
      "['Python is Simple Progr', 'mming L', 'ngu', 'ge']\n"
     ]
    }
   ],
   "source": [
    "print(s1.split(\"a\"))"
   ]
  },
  {
   "cell_type": "code",
   "execution_count": 10,
   "metadata": {},
   "outputs": [
    {
     "name": "stdout",
     "output_type": "stream",
     "text": [
      "Python is Easy Programming Language\n"
     ]
    }
   ],
   "source": [
    "# Replace Method:\n",
    "s1 = \"Python is Simple Programming Language\"\n",
    "print(s1.replace(\"Simple\",\"Easy\"))"
   ]
  },
  {
   "cell_type": "markdown",
   "metadata": {},
   "source": [
    "# Boolean Functions:\n",
    "- islower()\n",
    "- isupper()\n",
    "- istitle()\n",
    "- isalpha()\n",
    "- isnumeric()\n",
    "- isspace()"
   ]
  },
  {
   "cell_type": "code",
   "execution_count": 12,
   "metadata": {},
   "outputs": [
    {
     "name": "stdout",
     "output_type": "stream",
     "text": [
      "False\n",
      "False\n"
     ]
    }
   ],
   "source": [
    "# Islower\n",
    "# isupper\n",
    "s = \"Ajay\"\n",
    "print(s.islower())\n",
    "print(s.isupper())"
   ]
  },
  {
   "cell_type": "code",
   "execution_count": 13,
   "metadata": {},
   "outputs": [
    {
     "name": "stdout",
     "output_type": "stream",
     "text": [
      "True\n"
     ]
    }
   ],
   "source": [
    "# Istitle\n",
    "s1 = \"Python\"\n",
    "print(s1.istitle())"
   ]
  },
  {
   "cell_type": "code",
   "execution_count": 14,
   "metadata": {},
   "outputs": [
    {
     "name": "stdout",
     "output_type": "stream",
     "text": [
      "True\n"
     ]
    }
   ],
   "source": [
    "# isalpha\n",
    "s1 = \"Python\"\n",
    "print(s1.isalpha())"
   ]
  },
  {
   "cell_type": "code",
   "execution_count": 15,
   "metadata": {},
   "outputs": [
    {
     "name": "stdout",
     "output_type": "stream",
     "text": [
      "False\n"
     ]
    }
   ],
   "source": [
    "# isnumeric()\n",
    "s1 = \"Python\"\n",
    "print(s1.isnumeric())"
   ]
  },
  {
   "cell_type": "code",
   "execution_count": 16,
   "metadata": {},
   "outputs": [
    {
     "name": "stdout",
     "output_type": "stream",
     "text": [
      "True\n"
     ]
    }
   ],
   "source": [
    "s2 = \"123\"\n",
    "print(s2.isnumeric())"
   ]
  },
  {
   "cell_type": "code",
   "execution_count": 17,
   "metadata": {},
   "outputs": [
    {
     "name": "stdout",
     "output_type": "stream",
     "text": [
      "False\n"
     ]
    }
   ],
   "source": [
    "#isspace\n",
    "s1 = \"Python\"\n",
    "print(s1.isspace())"
   ]
  },
  {
   "cell_type": "code",
   "execution_count": 19,
   "metadata": {},
   "outputs": [
    {
     "name": "stdout",
     "output_type": "stream",
     "text": [
      "True\n"
     ]
    }
   ],
   "source": [
    "s2 = \" \"\n",
    "print(s2.isspace())"
   ]
  },
  {
   "cell_type": "markdown",
   "metadata": {},
   "source": [
    "# File Handling:\n",
    "- File Handling is an important part of web Application.\n",
    "- Functions:\n",
    "   - Creating a file\n",
    "   - Reading a file\n",
    "   - Updating a file\n",
    "   - Deleting a file\n",
    "   \n",
    "- Key Function for working with files in python is open() Function\n",
    "- Open Function takes 2 parameters --> Filename and Mode\n",
    "- We have 3 Modes:\n",
    "  - **r** --> Read Mode\n",
    "  - **a** --> Append Mode\n",
    "  - **w** --> Write Mode"
   ]
  },
  {
   "cell_type": "code",
   "execution_count": 21,
   "metadata": {
    "scrolled": true
   },
   "outputs": [
    {
     "name": "stdout",
     "output_type": "stream",
     "text": [
      "Welcome TO File Handling\n",
      "This is Line\n",
      "This is Line\n",
      "This is Line\n",
      "This is Line\n",
      "This is Line\n"
     ]
    }
   ],
   "source": [
    "# read a file\n",
    "f = open(\"text.txt\",\"r\")\n",
    "print(f.read())"
   ]
  },
  {
   "cell_type": "code",
   "execution_count": 24,
   "metadata": {},
   "outputs": [
    {
     "name": "stdout",
     "output_type": "stream",
     "text": [
      "Welcome \n"
     ]
    }
   ],
   "source": [
    "# Print first 5 chanarcters \n",
    "f = open(\"text.txt\",\"r\")\n",
    "print(f.read(8))"
   ]
  },
  {
   "cell_type": "code",
   "execution_count": 30,
   "metadata": {},
   "outputs": [
    {
     "name": "stdout",
     "output_type": "stream",
     "text": [
      "Welcome TO File Handling\n",
      "\n",
      "This is Line\n",
      "\n",
      "This is Line\n",
      "\n"
     ]
    }
   ],
   "source": [
    "# Read by line - readline()\n",
    "f = open(\"text.txt\",\"r\")\n",
    "print(f.readline())\n",
    "print(f.readline())\n",
    "print(f.readline())"
   ]
  },
  {
   "cell_type": "code",
   "execution_count": null,
   "metadata": {},
   "outputs": [],
   "source": []
  }
 ],
 "metadata": {
  "kernelspec": {
   "display_name": "Python 3",
   "language": "python",
   "name": "python3"
  },
  "language_info": {
   "codemirror_mode": {
    "name": "ipython",
    "version": 3
   },
   "file_extension": ".py",
   "mimetype": "text/x-python",
   "name": "python",
   "nbconvert_exporter": "python",
   "pygments_lexer": "ipython3",
   "version": "3.8.5"
  }
 },
 "nbformat": 4,
 "nbformat_minor": 4
}

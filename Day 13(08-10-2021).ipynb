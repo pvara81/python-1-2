{
 "cells": [
  {
   "cell_type": "markdown",
   "metadata": {},
   "source": [
    "# Object Oriented Programming in Python\n",
    "- Python Supports different programming Approach.\n",
    "- One of the popular Approach is to solve programs by creating objects\n",
    "- It is object Oriented Programming\n",
    "- Object has 2 charactertics\n",
    "  - Attributes\n",
    "  - Behaviour\n",
    "     - Ex:Parrot is an object\n",
    "        - Name,age,color as attributes\n",
    "        - Singing,Dancing as behaviour\n",
    "\n",
    "# OOP in Python:\n",
    " - Class\n",
    " - Object\n",
    " - Methods\n",
    " - Contructor\n",
    " - Inheritance\n",
    "        \n",
    "    "
   ]
  },
  {
   "cell_type": "code",
   "execution_count": 1,
   "metadata": {},
   "outputs": [],
   "source": [
    "# Syntax:\n",
    "class Parrot:\n",
    "    pass # pass put in the class statement to avoid getting error"
   ]
  },
  {
   "cell_type": "markdown",
   "metadata": {},
   "source": [
    "## Object:\n",
    " - when class is defined,only description for objects defined"
   ]
  },
  {
   "cell_type": "code",
   "execution_count": null,
   "metadata": {},
   "outputs": [],
   "source": [
    "# Create object\n",
    "obj = parrot() #obj is an object of class Parrot"
   ]
  },
  {
   "cell_type": "code",
   "execution_count": 2,
   "metadata": {},
   "outputs": [
    {
     "name": "stdout",
     "output_type": "stream",
     "text": [
      "<class '__main__.cls'>\n"
     ]
    }
   ],
   "source": [
    "# create class \n",
    "class cls:\n",
    "    x = 10\n",
    "print(cls)"
   ]
  },
  {
   "cell_type": "code",
   "execution_count": 3,
   "metadata": {},
   "outputs": [
    {
     "name": "stdout",
     "output_type": "stream",
     "text": [
      "10\n"
     ]
    }
   ],
   "source": [
    "# Create a object in Class parrot\n",
    "class Parrot:\n",
    "    x = 10\n",
    "a = cls() # object named a and print the value of x\n",
    "print(a.x)"
   ]
  },
  {
   "cell_type": "code",
   "execution_count": 4,
   "metadata": {},
   "outputs": [
    {
     "name": "stdout",
     "output_type": "stream",
     "text": [
      "Test method In class \n"
     ]
    }
   ],
   "source": [
    "# creating a method in class\n",
    "class cls:\n",
    "    # Create a method \n",
    "    def test(self): # Self parameter is used to access variables that belong to class\n",
    "        print(\"Test method In class \")\n",
    "        return\n",
    "obj = cls()\n",
    "obj.test()"
   ]
  },
  {
   "cell_type": "code",
   "execution_count": 5,
   "metadata": {},
   "outputs": [
    {
     "name": "stdout",
     "output_type": "stream",
     "text": [
      "Your name is : Ajay\n"
     ]
    }
   ],
   "source": [
    "class cls1:\n",
    "    def test1(self,name):\n",
    "        print(\"Your name is :\",name)\n",
    "        return\n",
    "obj1 = cls1()\n",
    "obj1.test1(\"Ajay\")"
   ]
  },
  {
   "cell_type": "markdown",
   "metadata": {},
   "source": [
    "# Contructors: - init function()\n",
    "- All Classes have a function class _init_function.\n",
    "- Use __init__() Function to assign values to object properties.\n"
   ]
  },
  {
   "cell_type": "code",
   "execution_count": 12,
   "metadata": {},
   "outputs": [
    {
     "name": "stdout",
     "output_type": "stream",
     "text": [
      "Ajay\n",
      "20\n"
     ]
    }
   ],
   "source": [
    "# create class names person,use __init__() function to assign values for name and age\n",
    "class Person:\n",
    "    def __init__(self,name,age):# __init__ function is called automatically everytime the class is being used to create new obj\n",
    "        self.name = name\n",
    "        self.age = age\n",
    "p1 = Person(\"Ajay\",20)\n",
    "print(p1.name)\n",
    "print(p1.age)"
   ]
  },
  {
   "cell_type": "code",
   "execution_count": 15,
   "metadata": {},
   "outputs": [
    {
     "name": "stdout",
     "output_type": "stream",
     "text": [
      "Hi,My name is :Ajay\n",
      "Ajay\n",
      "20\n"
     ]
    }
   ],
   "source": [
    "# create mthod in class\n",
    "class Person:\n",
    "    def __init__(self,name,age):\n",
    "        self.name = name\n",
    "        self.age = age\n",
    "    def mymethod(self):\n",
    "        print(\"Hi,My name is :\"+self.name)\n",
    "p1 = Person(\"Ajay\",20)\n",
    "p1.mymethod()\n",
    "print(p1.name)\n",
    "print(p1.age)"
   ]
  },
  {
   "cell_type": "code",
   "execution_count": null,
   "metadata": {},
   "outputs": [],
   "source": []
  }
 ],
 "metadata": {
  "kernelspec": {
   "display_name": "Python 3",
   "language": "python",
   "name": "python3"
  },
  "language_info": {
   "codemirror_mode": {
    "name": "ipython",
    "version": 3
   },
   "file_extension": ".py",
   "mimetype": "text/x-python",
   "name": "python",
   "nbconvert_exporter": "python",
   "pygments_lexer": "ipython3",
   "version": "3.8.5"
  }
 },
 "nbformat": 4,
 "nbformat_minor": 4
}

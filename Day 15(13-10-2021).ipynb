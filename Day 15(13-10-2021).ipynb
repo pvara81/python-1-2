{
 "cells": [
  {
   "cell_type": "code",
   "execution_count": 1,
   "metadata": {},
   "outputs": [
    {
     "data": {
      "text/plain": [
       "False"
      ]
     },
     "execution_count": 1,
     "metadata": {},
     "output_type": "execute_result"
    }
   ],
   "source": [
    "# to Test Username with digits\n",
    "import re\n",
    "def username(n):\n",
    "    pattern = \"^[a-zA-Z0-9]{10}\"\n",
    "    if re.match(pattern,n):\n",
    "        return True\n",
    "    return False\n",
    "username(\"Ajay12345\")\n"
   ]
  },
  {
   "cell_type": "code",
   "execution_count": 2,
   "metadata": {},
   "outputs": [
    {
     "data": {
      "text/plain": [
       "True"
      ]
     },
     "execution_count": 2,
     "metadata": {},
     "output_type": "execute_result"
    }
   ],
   "source": [
    "username(\"Ajaykumar1\")"
   ]
  },
  {
   "cell_type": "markdown",
   "metadata": {},
   "source": [
    "# Regular Expression To match Indian Mobile Number\n",
    "- 9854564465 -->\"^[7-9][0-9]{9}$\"\n",
    "\n",
    "- 09846515665 -->\"^[0][7-9][0-9]{9}$\"\n",
    "\n",
    "- +919846514665 --> \"^[+][9][1][7-9][0-9]{9}$\""
   ]
  },
  {
   "cell_type": "code",
   "execution_count": 3,
   "metadata": {},
   "outputs": [
    {
     "data": {
      "text/plain": [
       "True"
      ]
     },
     "execution_count": 3,
     "metadata": {},
     "output_type": "execute_result"
    }
   ],
   "source": [
    "# Re To check indian mobile number\n",
    "def mobile(n):\n",
    "    pattern = \"^[7-9][0-9]{9}$|^[0][7-9][0-9]{9}$|^[+][9][1][7-9][0-9]{9}$\"\n",
    "    if re.match(pattern,n):\n",
    "        return True\n",
    "    return False\n",
    "mobile(\"9854564465\")"
   ]
  },
  {
   "cell_type": "code",
   "execution_count": 4,
   "metadata": {},
   "outputs": [
    {
     "data": {
      "text/plain": [
       "True"
      ]
     },
     "execution_count": 4,
     "metadata": {},
     "output_type": "execute_result"
    }
   ],
   "source": [
    "mobile(\"09846515665\")"
   ]
  },
  {
   "cell_type": "code",
   "execution_count": 5,
   "metadata": {},
   "outputs": [
    {
     "data": {
      "text/plain": [
       "True"
      ]
     },
     "execution_count": 5,
     "metadata": {},
     "output_type": "execute_result"
    }
   ],
   "source": [
    "mobile(\"+919846514665\")"
   ]
  },
  {
   "cell_type": "markdown",
   "metadata": {},
   "source": [
    "# Re For To validate Roll Number\n",
    "- 1231a0408\n",
    "- 1231A0409"
   ]
  },
  {
   "cell_type": "code",
   "execution_count": 7,
   "metadata": {},
   "outputs": [
    {
     "data": {
      "text/plain": [
       "True"
      ]
     },
     "execution_count": 7,
     "metadata": {},
     "output_type": "execute_result"
    }
   ],
   "source": [
    "def rollnumber(n):\n",
    "    pattern = \"^[1][2][3][1][a-zA-Z][0-9]{4}$\"\n",
    "    if re.match(pattern,n):\n",
    "        return True\n",
    "    return False\n",
    "rollnumber(\"1231a0408\")\n",
    "\n",
    "    "
   ]
  },
  {
   "cell_type": "code",
   "execution_count": 8,
   "metadata": {},
   "outputs": [
    {
     "data": {
      "text/plain": [
       "True"
      ]
     },
     "execution_count": 8,
     "metadata": {},
     "output_type": "execute_result"
    }
   ],
   "source": [
    "rollnumber(\"1231A0409\")"
   ]
  },
  {
   "cell_type": "markdown",
   "metadata": {},
   "source": [
    "# Email Id Validation \n",
    "- Example: \n",
    "  - username@Domainname.extension\n",
    "  - username\n",
    "    - length [6-15]\n",
    "    - spl charcater \n",
    "  - Domainname\n",
    "    - length [ 3-17]\n",
    "    - no spl characters\n",
    "  - Extension\n",
    "    - length [2-5]\n",
    "    - No spl characters"
   ]
  },
  {
   "cell_type": "code",
   "execution_count": 13,
   "metadata": {},
   "outputs": [
    {
     "data": {
      "text/plain": [
       "True"
      ]
     },
     "execution_count": 13,
     "metadata": {},
     "output_type": "execute_result"
    }
   ],
   "source": [
    "# Pattern = \"^[a-zA-Z0-9_.]{6,15}[@][a-z]{3,17}[.][a-z]{2,5}$\"\n",
    "def email(n):\n",
    "    pattern = \"^[a-zA-Z0-9_.]{2,15}[@][a-z]{3,17}[.][a-z]{2,5}$\"\n",
    "    if re.match(pattern,n):\n",
    "        return True\n",
    "    return False\n",
    "email(\"ajaykumar@gmail.com\")\n",
    "    "
   ]
  },
  {
   "cell_type": "code",
   "execution_count": 15,
   "metadata": {},
   "outputs": [
    {
     "data": {
      "text/plain": [
       "True"
      ]
     },
     "execution_count": 15,
     "metadata": {},
     "output_type": "execute_result"
    }
   ],
   "source": [
    "email(\"ajay_123@gmail.com\")"
   ]
  },
  {
   "cell_type": "code",
   "execution_count": null,
   "metadata": {},
   "outputs": [],
   "source": []
  }
 ],
 "metadata": {
  "kernelspec": {
   "display_name": "Python 3",
   "language": "python",
   "name": "python3"
  },
  "language_info": {
   "codemirror_mode": {
    "name": "ipython",
    "version": 3
   },
   "file_extension": ".py",
   "mimetype": "text/x-python",
   "name": "python",
   "nbconvert_exporter": "python",
   "pygments_lexer": "ipython3",
   "version": "3.8.5"
  }
 },
 "nbformat": 4,
 "nbformat_minor": 4
}

{
 "cells": [
  {
   "cell_type": "markdown",
   "metadata": {},
   "source": [
    "# Python Turtle:\n",
    "- Turtle Graphics\n",
    "- It is a feature like drawing board\n",
    "- we can use functions like turtle.forward() and turtle.left() which can move turtle\n",
    "\n",
    "- Steps to plot a graph using turtle:\n",
    "  - import turtle module\n",
    "  - create a turtle to control\n",
    "  - Draw around using turtle methods or functions\n",
    "  - run turtle.done()"
   ]
  },
  {
   "cell_type": "code",
   "execution_count": 3,
   "metadata": {},
   "outputs": [],
   "source": [
    "# Draw a traingle\n",
    "import turtle as t\n",
    "turtle = t.Turtle()\n",
    "\n",
    "for i in range(3):\n",
    "    #t.backward(100) # Lenght \n",
    "    #t.right(120) # Angle\n",
    "    t.forward(100)\n",
    "    t.left(120)\n",
    "t.done()"
   ]
  },
  {
   "cell_type": "code",
   "execution_count": 5,
   "metadata": {},
   "outputs": [],
   "source": [
    "# Draw a sqaure\n",
    "turtle = t.Turtle()\n",
    "\n",
    "for i in range(4):\n",
    "    t.forward(100)\n",
    "    t.right(90)\n",
    "t.done()"
   ]
  },
  {
   "cell_type": "code",
   "execution_count": 7,
   "metadata": {},
   "outputs": [],
   "source": [
    "# draw a pentagon\n",
    "turtle = t.Turtle()\n",
    "\n",
    "for i in range(5):\n",
    "    t.forward(100)\n",
    "    t.right(72)\n",
    "t.done()"
   ]
  },
  {
   "cell_type": "code",
   "execution_count": 9,
   "metadata": {},
   "outputs": [],
   "source": [
    "# Spiralling star\n",
    "turtle = t.Turtle()\n",
    "turtle.pencolor(\"red\")\n",
    "for i in range(50):\n",
    "    t.forward(i*10)\n",
    "    t.right(144)\n",
    "t.done()"
   ]
  },
  {
   "cell_type": "code",
   "execution_count": 11,
   "metadata": {},
   "outputs": [],
   "source": [
    "# Square spiraling\n",
    "turtle = t.Turtle()\n",
    "turtle.pencolor(\"blue\")\n",
    "for i in range(100):\n",
    "    t.forward(i)\n",
    "    t.left(91)\n",
    "t.done()\n"
   ]
  },
  {
   "cell_type": "code",
   "execution_count": 1,
   "metadata": {},
   "outputs": [],
   "source": [
    "# Hexagon with multiple colors\n",
    "from turtle import *\n",
    "colors = ['blue','yellow','red','green','purple','orange']\n",
    "for i in range(360):\n",
    "    pencolor(colors[i%6])\n",
    "    width(i/100+1)\n",
    "    speed(300)\n",
    "    forward(i)\n",
    "    left(59)\n"
   ]
  },
  {
   "cell_type": "code",
   "execution_count": 1,
   "metadata": {},
   "outputs": [
    {
     "ename": "AttributeError",
     "evalue": "'Turtle' object has no attribute 'done'",
     "output_type": "error",
     "traceback": [
      "\u001b[1;31m---------------------------------------------------------------------------\u001b[0m",
      "\u001b[1;31mAttributeError\u001b[0m                            Traceback (most recent call last)",
      "\u001b[1;32m<ipython-input-1-dd64b794b89b>\u001b[0m in \u001b[0;36m<module>\u001b[1;34m\u001b[0m\n\u001b[0;32m     14\u001b[0m     \u001b[0msqaure\u001b[0m\u001b[1;33m(\u001b[0m\u001b[1;36m100\u001b[0m\u001b[1;33m,\u001b[0m\u001b[1;36m90\u001b[0m\u001b[1;33m)\u001b[0m\u001b[1;33m\u001b[0m\u001b[1;33m\u001b[0m\u001b[0m\n\u001b[0;32m     15\u001b[0m     \u001b[0mt\u001b[0m\u001b[1;33m.\u001b[0m\u001b[0mright\u001b[0m\u001b[1;33m(\u001b[0m\u001b[1;36m5\u001b[0m\u001b[1;33m)\u001b[0m\u001b[1;33m\u001b[0m\u001b[1;33m\u001b[0m\u001b[0m\n\u001b[1;32m---> 16\u001b[1;33m \u001b[0mt\u001b[0m\u001b[1;33m.\u001b[0m\u001b[0mdone\u001b[0m\u001b[1;33m(\u001b[0m\u001b[1;33m)\u001b[0m\u001b[1;33m\u001b[0m\u001b[1;33m\u001b[0m\u001b[0m\n\u001b[0m",
      "\u001b[1;31mAttributeError\u001b[0m: 'Turtle' object has no attribute 'done'"
     ]
    }
   ],
   "source": [
    "# Circle of sqaures\n",
    "import turtle\n",
    "t = turtle.Turtle()\n",
    "t.speed(100)\n",
    "t.pencolor(\"red\")\n",
    "\n",
    "# draw a shape\n",
    "def sqaure(l,a):\n",
    "    for i in range(4):\n",
    "        t.forward(100)\n",
    "        t.right(90)\n",
    "        \n",
    "for i in range(200):\n",
    "    sqaure(100,90)\n",
    "    t.right(5)\n",
    "t.done()"
   ]
  },
  {
   "cell_type": "code",
   "execution_count": null,
   "metadata": {},
   "outputs": [],
   "source": [
    "# Changing Line colors\n",
    "t = turtle.Turtle()\n",
    "t.pencolor(\"blue\")\n",
    "t.speed(50)\n",
    "\n",
    "for i in range(50):\n",
    "    t.forward(100)\n",
    "    t.left(123)\n",
    "\n",
    "t.pencolor(\"red\")\n",
    "for i in range(100):\n",
    "    t.forward(100)\n",
    "    t.left(123)\n",
    "turtle.done()\n",
    "    \n"
   ]
  },
  {
   "cell_type": "code",
   "execution_count": null,
   "metadata": {},
   "outputs": [],
   "source": []
  }
 ],
 "metadata": {
  "kernelspec": {
   "display_name": "Python 3",
   "language": "python",
   "name": "python3"
  },
  "language_info": {
   "codemirror_mode": {
    "name": "ipython",
    "version": 3
   },
   "file_extension": ".py",
   "mimetype": "text/x-python",
   "name": "python",
   "nbconvert_exporter": "python",
   "pygments_lexer": "ipython3",
   "version": "3.8.5"
  }
 },
 "nbformat": 4,
 "nbformat_minor": 4
}

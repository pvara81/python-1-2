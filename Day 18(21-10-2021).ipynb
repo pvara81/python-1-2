{
 "cells": [
  {
   "cell_type": "markdown",
   "metadata": {},
   "source": [
    "# Numpy Module:\n",
    "- Numpy library is used for working with arrays\n",
    "- Numpy stands for numerical Python\n",
    "- Computation operations"
   ]
  },
  {
   "cell_type": "code",
   "execution_count": 2,
   "metadata": {},
   "outputs": [
    {
     "name": "stdout",
     "output_type": "stream",
     "text": [
      "[1 2 3 4 5 6]\n",
      "<class 'numpy.ndarray'>\n"
     ]
    }
   ],
   "source": [
    "import numpy as np\n",
    "l = [1,2,3,4,5,6]\n",
    "arr = np.array(l)\n",
    "print(arr)\n",
    "print(type(arr))"
   ]
  },
  {
   "cell_type": "code",
   "execution_count": 3,
   "metadata": {},
   "outputs": [
    {
     "data": {
      "text/plain": [
       "[1, 2, 3, 4, 5, 6, 7, 8, 9, 10]"
      ]
     },
     "execution_count": 3,
     "metadata": {},
     "output_type": "execute_result"
    }
   ],
   "source": [
    "l1 = list(range(1,11))\n",
    "l1"
   ]
  },
  {
   "cell_type": "code",
   "execution_count": 4,
   "metadata": {},
   "outputs": [
    {
     "data": {
      "text/plain": [
       "array([ 1,  2,  3,  4,  5,  6,  7,  8,  9, 10])"
      ]
     },
     "execution_count": 4,
     "metadata": {},
     "output_type": "execute_result"
    }
   ],
   "source": [
    "arr2 = np.arange(1,11)\n",
    "arr2"
   ]
  },
  {
   "cell_type": "markdown",
   "metadata": {},
   "source": [
    "# Dimensions in Arrays:\n"
   ]
  },
  {
   "cell_type": "code",
   "execution_count": 5,
   "metadata": {},
   "outputs": [
    {
     "name": "stdout",
     "output_type": "stream",
     "text": [
      "[1 2 3 4 5 6]\n"
     ]
    }
   ],
   "source": [
    "# 1 - D Array\n",
    "arr = np.array([1,2,3,4,5,6])\n",
    "print(arr)"
   ]
  },
  {
   "cell_type": "code",
   "execution_count": 6,
   "metadata": {},
   "outputs": [
    {
     "name": "stdout",
     "output_type": "stream",
     "text": [
      "[[1 2 3 4]\n",
      " [5 6 7 8]]\n"
     ]
    }
   ],
   "source": [
    "# 2-D Array\n",
    "arr1 = np.array([[1,2,3,4],[5,6,7,8]])\n",
    "print(arr1)"
   ]
  },
  {
   "cell_type": "code",
   "execution_count": 7,
   "metadata": {},
   "outputs": [
    {
     "name": "stdout",
     "output_type": "stream",
     "text": [
      "[[[1 2 3]\n",
      "  [3 4 5]]\n",
      "\n",
      " [[5 6 7]\n",
      "  [7 8 9]]]\n"
     ]
    }
   ],
   "source": [
    "# 3 - D Array\n",
    "arr2 = np.array([[[1,2,3],[3,4,5]],[[5,6,7],[7,8,9]]])\n",
    "print(arr2)"
   ]
  },
  {
   "cell_type": "code",
   "execution_count": 12,
   "metadata": {},
   "outputs": [
    {
     "name": "stdout",
     "output_type": "stream",
     "text": [
      "[0.07125424 0.95505214]\n",
      "3\n"
     ]
    }
   ],
   "source": [
    "from numpy import random\n",
    "print(random.rand(2))\n",
    "print(random.randint(4))"
   ]
  },
  {
   "cell_type": "code",
   "execution_count": 18,
   "metadata": {},
   "outputs": [
    {
     "name": "stdout",
     "output_type": "stream",
     "text": [
      "[63 54 24]\n",
      "[[81 77 97 24]\n",
      " [57 61 69 47]\n",
      " [77 16 23 76]]\n",
      "[[69 17 12]\n",
      " [74 58 65]\n",
      " [68 54 94]\n",
      " [74 68 68]]\n",
      "[[[14  4]\n",
      "  [49 11]\n",
      "  [46 50]\n",
      "  [37 30]]\n",
      "\n",
      " [[84 38]\n",
      "  [48 38]\n",
      "  [43 73]\n",
      "  [48 44]]\n",
      "\n",
      " [[96  9]\n",
      "  [46  3]\n",
      "  [70 92]\n",
      "  [30 29]]]\n"
     ]
    }
   ],
   "source": [
    "# Create n dimensional array with random integer value\n",
    "print(random.randint(100,size = 3))\n",
    "print(random.randint(100,size = (3,4)))\n",
    "print(random.randint(100,size = (4,3)))\n",
    "print(random.randint(100,size = (3,4,2)))"
   ]
  },
  {
   "cell_type": "code",
   "execution_count": 22,
   "metadata": {},
   "outputs": [
    {
     "name": "stdout",
     "output_type": "stream",
     "text": [
      "0.5413721339079817\n",
      "[0.27198842 0.74203406 0.96481171]\n",
      "[[0.09594317 0.30923058 0.73194294]\n",
      " [0.49087959 0.05758204 0.81879205]]\n",
      "[[[0.27435186 0.38637512]\n",
      "  [0.56092671 0.07860688]\n",
      "  [0.71105488 0.73413921]\n",
      "  [0.07570772 0.89493439]]\n",
      "\n",
      " [[0.33013283 0.24412355]\n",
      "  [0.05856053 0.39546911]\n",
      "  [0.75977998 0.85625955]\n",
      "  [0.46758644 0.40689522]]\n",
      "\n",
      " [[0.79237005 0.70704385]\n",
      "  [0.46573683 0.60101239]\n",
      "  [0.6677463  0.59427815]\n",
      "  [0.22787407 0.41288743]]]\n"
     ]
    }
   ],
   "source": [
    "# create n dimension array with random floating point value\n",
    "from numpy import random\n",
    "print(random.rand())\n",
    "print(random.rand(3))\n",
    "print(random.rand(2,3))\n",
    "print(random.rand(3,4,2))"
   ]
  },
  {
   "cell_type": "code",
   "execution_count": null,
   "metadata": {},
   "outputs": [],
   "source": []
  }
 ],
 "metadata": {
  "kernelspec": {
   "display_name": "Python 3",
   "language": "python",
   "name": "python3"
  },
  "language_info": {
   "codemirror_mode": {
    "name": "ipython",
    "version": 3
   },
   "file_extension": ".py",
   "mimetype": "text/x-python",
   "name": "python",
   "nbconvert_exporter": "python",
   "pygments_lexer": "ipython3",
   "version": "3.8.5"
  }
 },
 "nbformat": 4,
 "nbformat_minor": 4
}

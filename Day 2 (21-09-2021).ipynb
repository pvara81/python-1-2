{
 "cells": [
  {
   "cell_type": "markdown",
   "metadata": {},
   "source": [
    "# Control Flow Statements:\n",
    "- Conditional Statements\n",
    "   - if-else statements\n",
    "- Looping Statemnets\n",
    "   - for loop statement\n",
    "   - while loop statement"
   ]
  },
  {
   "cell_type": "markdown",
   "metadata": {},
   "source": [
    "# if -else Statement:\n"
   ]
  },
  {
   "cell_type": "code",
   "execution_count": null,
   "metadata": {},
   "outputs": [],
   "source": [
    "#syntax:\n",
    "if Boolean_condition:\n",
    "    statement\n",
    "else:# elif\n",
    "    statement"
   ]
  },
  {
   "cell_type": "code",
   "execution_count": 1,
   "metadata": {},
   "outputs": [
    {
     "name": "stdout",
     "output_type": "stream",
     "text": [
      "Enter a number87\n",
      "Odd Number\n"
     ]
    }
   ],
   "source": [
    "# check given number is even number or odd number\n",
    "n = int(input(\"Enter a number\"))\n",
    "if n%2 ==0:\n",
    "    print(\"Even Number\")\n",
    "else:\n",
    "    print(\"Odd Number\")\n"
   ]
  },
  {
   "cell_type": "code",
   "execution_count": 2,
   "metadata": {},
   "outputs": [
    {
     "name": "stdout",
     "output_type": "stream",
     "text": [
      "Enter a number :45\n",
      "yes\n"
     ]
    }
   ],
   "source": [
    "# check given number is multiples of both 3 and 5\n",
    "n = int(input(\"Enter a number :\"))\n",
    "if n %3 ==0 and n%5 ==0:\n",
    "    print(\"yes\")\n",
    "else:\n",
    "    print(\"No\")\n",
    "    "
   ]
  },
  {
   "cell_type": "code",
   "execution_count": 5,
   "metadata": {},
   "outputs": [
    {
     "name": "stdout",
     "output_type": "stream",
     "text": [
      "Enter a number0\n",
      "Zero\n"
     ]
    }
   ],
   "source": [
    "# check given is positive number ,negative or Zero\n",
    "# +ve - \n",
    "n = int(input(\"Enter a number\"))\n",
    "if n>0:\n",
    "    print(\"+ve Number\")\n",
    "elif n<0:\n",
    "    print(\"-ve Number\")\n",
    "else:\n",
    "    print(\"Zero\")"
   ]
  },
  {
   "cell_type": "code",
   "execution_count": 6,
   "metadata": {
    "scrolled": true
   },
   "outputs": [
    {
     "name": "stdout",
     "output_type": "stream",
     "text": [
      "Enter a number a :5\n",
      "Enter a number b :9\n",
      "enter a number c :2\n",
      "9 is a large number\n"
     ]
    }
   ],
   "source": [
    "# Find large number among 3 input numbers\n",
    "# a b c\n",
    "a = int(input(\"Enter a number a :\"))\n",
    "b = int(input(\"Enter a number b :\"))\n",
    "c = int(input(\"enter a number c :\"))\n",
    "if a>b and a>c:\n",
    "    print(a,\"is a large number\")\n",
    "elif b>a and b>c:\n",
    "    print(b,\"is a large number\")\n",
    "else:\n",
    "    print(c,\"is a large number\")"
   ]
  },
  {
   "cell_type": "code",
   "execution_count": null,
   "metadata": {},
   "outputs": [],
   "source": [
    "# find grading\n",
    "# Below 25 -- F\n",
    "# 25 to 45 -- E\n",
    "# 45 to 50 -- D\n",
    "# 50 to 60 -- C\n",
    "# 60 to 80 -- B\n",
    "# Above 80 -- A\n"
   ]
  },
  {
   "cell_type": "code",
   "execution_count": 2,
   "metadata": {},
   "outputs": [
    {
     "name": "stdout",
     "output_type": "stream",
     "text": [
      "Enter marks :34\n",
      "E Grade\n"
     ]
    }
   ],
   "source": [
    "marks = int(input(\"Enter marks :\"))\n",
    "if marks <25:\n",
    "    print(\"F Grade\")\n",
    "elif marks >= 25 and marks <45:\n",
    "    print(\"E Grade\")\n",
    "elif marks >= 45 and marks <50:\n",
    "    print(\"D Grdae\")\n",
    "elif marks >= 50 and marks <60:\n",
    "    print(\"C Grade\")\n",
    "elif marks >=60 and marks < 80:\n",
    "    print(\"B Grade\")\n",
    "else:\n",
    "    print(\"A Grade\")"
   ]
  },
  {
   "cell_type": "code",
   "execution_count": 5,
   "metadata": {},
   "outputs": [
    {
     "name": "stdout",
     "output_type": "stream",
     "text": [
      "Enter a number :465\n",
      "No\n"
     ]
    }
   ],
   "source": [
    "#check whether last digit of a number is divisible by 3 or not\n",
    "#input :464\n",
    "n = int(input(\"Enter a number :\"))\n",
    "a = n%10\n",
    "if a%3 ==0:\n",
    "    print(\"Yes\")\n",
    "else:\n",
    "    print(\"No\")"
   ]
  },
  {
   "cell_type": "code",
   "execution_count": null,
   "metadata": {},
   "outputs": [],
   "source": []
  }
 ],
 "metadata": {
  "kernelspec": {
   "display_name": "Python 3",
   "language": "python",
   "name": "python3"
  },
  "language_info": {
   "codemirror_mode": {
    "name": "ipython",
    "version": 3
   },
   "file_extension": ".py",
   "mimetype": "text/x-python",
   "name": "python",
   "nbconvert_exporter": "python",
   "pygments_lexer": "ipython3",
   "version": "3.8.5"
  }
 },
 "nbformat": 4,
 "nbformat_minor": 4
}

{
 "cells": [
  {
   "cell_type": "markdown",
   "metadata": {},
   "source": [
    "# Looping Statements:\n",
    "- While Loop Statement:\n",
    "   - It allows a programmer to repeat a single statement or a gruop of statements for True Condition.\n",
    "   \n",
    "- For loop Statement:\n",
    "   - It allows a programmer to execute a sequence of statements several times."
   ]
  },
  {
   "cell_type": "markdown",
   "metadata": {},
   "source": [
    "# While Loop Statement:\n"
   ]
  },
  {
   "cell_type": "code",
   "execution_count": null,
   "metadata": {},
   "outputs": [],
   "source": [
    "# syntax:\n",
    "while Boolean_Condition:\n",
    "    Statement\n",
    "    increment/Decrement"
   ]
  },
  {
   "cell_type": "code",
   "execution_count": 1,
   "metadata": {},
   "outputs": [
    {
     "name": "stdout",
     "output_type": "stream",
     "text": [
      "Ajay\n",
      "Ajay\n",
      "Ajay\n",
      "Ajay\n",
      "Ajay\n"
     ]
    }
   ],
   "source": [
    "# print \"Ajay\" for 5 times:\n",
    "print(\"Ajay\")\n",
    "print(\"Ajay\")\n",
    "print(\"Ajay\")\n",
    "print(\"Ajay\")\n",
    "print(\"Ajay\")"
   ]
  },
  {
   "cell_type": "code",
   "execution_count": 3,
   "metadata": {},
   "outputs": [
    {
     "name": "stdout",
     "output_type": "stream",
     "text": [
      "Ajay\n",
      "Ajay\n",
      "Ajay\n",
      "Ajay\n",
      "Ajay\n",
      "Ajay\n",
      "Ajay\n",
      "Ajay\n",
      "Ajay\n",
      "Ajay\n"
     ]
    }
   ],
   "source": [
    "# with while \n",
    "i = 0\n",
    "while i <10:\n",
    "    print(\"Ajay\")\n",
    "    i += 1"
   ]
  },
  {
   "cell_type": "code",
   "execution_count": 5,
   "metadata": {},
   "outputs": [
    {
     "name": "stdout",
     "output_type": "stream",
     "text": [
      "1 2 3 4 5 6 7 8 9 10 "
     ]
    }
   ],
   "source": [
    "# want to 1 2 3 4 5 6 7 8 9 10\n",
    "i = 1\n",
    "while i <=10:\n",
    "    print(i,end = \" \")\n",
    "    i += 1"
   ]
  },
  {
   "cell_type": "code",
   "execution_count": 6,
   "metadata": {},
   "outputs": [
    {
     "name": "stdout",
     "output_type": "stream",
     "text": [
      "2 4 6 8 10 "
     ]
    }
   ],
   "source": [
    "#print even numbers from 1 to 10\n",
    "i = 1\n",
    "while i <=10:\n",
    "    if i %2 ==0:\n",
    "        \n",
    "        print(i,end = \" \")\n",
    "    i += 1"
   ]
  },
  {
   "cell_type": "code",
   "execution_count": 8,
   "metadata": {},
   "outputs": [
    {
     "name": "stdout",
     "output_type": "stream",
     "text": [
      "Enter a number :12\n",
      "1 2 3 4 6 12 "
     ]
    }
   ],
   "source": [
    "# print th o/p as foctors of a given nuber\n",
    "# 6 --> 1 2 3 6\n",
    "# 12 -->1 2 3 4 6 12\n",
    "n = int(input(\"Enter a number :\"))\n",
    "i = 1\n",
    "while i <= n:\n",
    "    if n % i ==0:\n",
    "        print(i,end = \" \")\n",
    "    i +=1"
   ]
  },
  {
   "cell_type": "code",
   "execution_count": 10,
   "metadata": {},
   "outputs": [
    {
     "name": "stdout",
     "output_type": "stream",
     "text": [
      "123\n",
      "321"
     ]
    }
   ],
   "source": [
    "# input :123 \n",
    "# output :321\n",
    "n = int(input())\n",
    "while n != 0:\n",
    "    print(n%10,end =\"\")\n",
    "    n =n//10"
   ]
  },
  {
   "cell_type": "code",
   "execution_count": 11,
   "metadata": {},
   "outputs": [
    {
     "name": "stdout",
     "output_type": "stream",
     "text": [
      "10\n",
      "10 9 8 7 6 5 4 3 2 1 "
     ]
    }
   ],
   "source": [
    "#input:10\n",
    "#output: 10 9 8 7 6 5 4 3 2 1\n",
    "n = int(input())\n",
    "i = 1\n",
    "while n >= i:\n",
    "    print(n,end = \" \")\n",
    "    n -= 1"
   ]
  },
  {
   "cell_type": "code",
   "execution_count": 13,
   "metadata": {},
   "outputs": [
    {
     "name": "stdout",
     "output_type": "stream",
     "text": [
      "1311\n",
      "total count : 4\n"
     ]
    }
   ],
   "source": [
    "#find the total count of digits\n",
    "#inout:56468\n",
    "# output:5\n",
    "n = int(input())\n",
    "c = 0\n",
    "while n!=0:\n",
    "    n = n//10\n",
    "    c = c+1\n",
    "print(\"total count :\",c)"
   ]
  },
  {
   "cell_type": "code",
   "execution_count": null,
   "metadata": {},
   "outputs": [],
   "source": [
    "#find largedigit and leastdigit from given number\n",
    "#Input:548964\n",
    "#output: 4,9"
   ]
  }
 ],
 "metadata": {
  "kernelspec": {
   "display_name": "Python 3",
   "language": "python",
   "name": "python3"
  },
  "language_info": {
   "codemirror_mode": {
    "name": "ipython",
    "version": 3
   },
   "file_extension": ".py",
   "mimetype": "text/x-python",
   "name": "python",
   "nbconvert_exporter": "python",
   "pygments_lexer": "ipython3",
   "version": "3.8.5"
  }
 },
 "nbformat": 4,
 "nbformat_minor": 4
}

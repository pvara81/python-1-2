{
 "cells": [
  {
   "cell_type": "markdown",
   "metadata": {},
   "source": [
    "# Dictionary:\n"
   ]
  },
  {
   "cell_type": "code",
   "execution_count": 2,
   "metadata": {},
   "outputs": [
    {
     "name": "stdout",
     "output_type": "stream",
     "text": [
      "{'name': 'Ajay', 'age': '20', 'city': 'hyderabad'}\n",
      "{'name': 'Ajay', 'city': 'hyderabad'}\n"
     ]
    }
   ],
   "source": [
    "# REMOVE ITEMS\n",
    "# Pop Method\n",
    "d = {\"name\":\"Ajay\",\"age\":\"20\",\"city\":\"hyderabad\"}\n",
    "print(d)\n",
    "d.pop(\"age\")\n",
    "print(d)"
   ]
  },
  {
   "cell_type": "code",
   "execution_count": 5,
   "metadata": {},
   "outputs": [
    {
     "name": "stdout",
     "output_type": "stream",
     "text": [
      "{'name': 'Ajay', 'age': '20', 'city': 'hyderabad'}\n",
      "{'name': 'Ajay', 'age': '20'}\n",
      "{'name': 'Ajay'}\n"
     ]
    }
   ],
   "source": [
    "# popitem Method\n",
    "d = {\"name\":\"Ajay\",\"age\":\"20\",\"city\":\"hyderabad\"}\n",
    "print(d)\n",
    "d.popitem()\n",
    "print(d)\n",
    "d.popitem()\n",
    "print(d)"
   ]
  },
  {
   "cell_type": "markdown",
   "metadata": {},
   "source": [
    "# Contact Aplication:\n",
    "- Add Contacts\n",
    "- Delete Contacts\n",
    "- Search Contacts\n",
    "- Merge Contacts\n",
    "- Sort Contacts\n"
   ]
  },
  {
   "cell_type": "code",
   "execution_count": 6,
   "metadata": {},
   "outputs": [
    {
     "name": "stdout",
     "output_type": "stream",
     "text": [
      "Contact is Added\n"
     ]
    }
   ],
   "source": [
    "# Add Contacts:\n",
    "contacts = { }\n",
    "def addcontacts(name,number):\n",
    "    if name not in contacts:\n",
    "        contacts[name]= number\n",
    "        print(\"Contact is Added\")\n",
    "    else:\n",
    "        print(\"Contact already Exist\")\n",
    "addcontacts(\"Ajay\",\"6462465546\")"
   ]
  },
  {
   "cell_type": "code",
   "execution_count": 7,
   "metadata": {},
   "outputs": [
    {
     "data": {
      "text/plain": [
       "{'Ajay': '6462465546'}"
      ]
     },
     "execution_count": 7,
     "metadata": {},
     "output_type": "execute_result"
    }
   ],
   "source": [
    "contacts"
   ]
  },
  {
   "cell_type": "code",
   "execution_count": 8,
   "metadata": {},
   "outputs": [
    {
     "name": "stdout",
     "output_type": "stream",
     "text": [
      "Contact is Added\n"
     ]
    }
   ],
   "source": [
    "addcontacts(\"Vijay\",\"3546465136\")"
   ]
  },
  {
   "cell_type": "code",
   "execution_count": 9,
   "metadata": {},
   "outputs": [
    {
     "data": {
      "text/plain": [
       "{'Ajay': '6462465546', 'Vijay': '3546465136'}"
      ]
     },
     "execution_count": 9,
     "metadata": {},
     "output_type": "execute_result"
    }
   ],
   "source": [
    "contacts"
   ]
  },
  {
   "cell_type": "code",
   "execution_count": 10,
   "metadata": {},
   "outputs": [
    {
     "name": "stdout",
     "output_type": "stream",
     "text": [
      "Contact already Exist\n"
     ]
    }
   ],
   "source": [
    "addcontacts(\"Ajay\",\"6462465546\")"
   ]
  },
  {
   "cell_type": "code",
   "execution_count": 11,
   "metadata": {},
   "outputs": [
    {
     "name": "stdout",
     "output_type": "stream",
     "text": [
      "Vijay : 3546465136\n"
     ]
    }
   ],
   "source": [
    "# Search Contacts:\n",
    "def searchcontacts(name):\n",
    "    if name in contacts:\n",
    "        print(name,\":\",contacts[name])\n",
    "    else:\n",
    "        print(\"Contact not exist\")\n",
    "searchcontacts(\"Vijay\")"
   ]
  },
  {
   "cell_type": "code",
   "execution_count": 12,
   "metadata": {},
   "outputs": [
    {
     "name": "stdout",
     "output_type": "stream",
     "text": [
      "Ajay : 6462465546\n"
     ]
    }
   ],
   "source": [
    "searchcontacts(\"Ajay\")"
   ]
  },
  {
   "cell_type": "code",
   "execution_count": 13,
   "metadata": {},
   "outputs": [
    {
     "name": "stdout",
     "output_type": "stream",
     "text": [
      "Contact is deleted\n"
     ]
    }
   ],
   "source": [
    "# Delete Contacts:\n",
    "def deletecontact(name):\n",
    "    if name in contacts:\n",
    "        del contacts[name]\n",
    "        print(\"Contact is deleted\")\n",
    "    else:\n",
    "        print(\"Contact Not Exist\")\n",
    "deletecontact(\"Vijay\")"
   ]
  },
  {
   "cell_type": "code",
   "execution_count": 14,
   "metadata": {},
   "outputs": [
    {
     "data": {
      "text/plain": [
       "{'Ajay': '6462465546'}"
      ]
     },
     "execution_count": 14,
     "metadata": {},
     "output_type": "execute_result"
    }
   ],
   "source": [
    "contacts"
   ]
  },
  {
   "cell_type": "code",
   "execution_count": 15,
   "metadata": {},
   "outputs": [
    {
     "name": "stdout",
     "output_type": "stream",
     "text": [
      "3 Contacts are added\n"
     ]
    }
   ],
   "source": [
    "# Merge Contacts:\n",
    "def mergecontacts(newcontacts):\n",
    "    contacts.update(newcontacts)\n",
    "    print(len(newcontacts.keys()),\"Contacts are added\")\n",
    "newcontacts={\"Raj\":'3546546316',\"Ram\":\"545646546\",\"Man\":\"6549865464\"}\n",
    "mergecontacts(newcontacts)"
   ]
  },
  {
   "cell_type": "code",
   "execution_count": 16,
   "metadata": {},
   "outputs": [
    {
     "data": {
      "text/plain": [
       "{'Ajay': '6462465546',\n",
       " 'Raj': '3546546316',\n",
       " 'Ram': '545646546',\n",
       " 'Man': '6549865464'}"
      ]
     },
     "execution_count": 16,
     "metadata": {},
     "output_type": "execute_result"
    }
   ],
   "source": [
    "contacts"
   ]
  },
  {
   "cell_type": "code",
   "execution_count": 17,
   "metadata": {},
   "outputs": [
    {
     "name": "stdout",
     "output_type": "stream",
     "text": [
      "key =  Ajay || value =  6462465546\n",
      "key =  Man || value =  6549865464\n",
      "key =  Raj || value =  3546546316\n",
      "key =  Ram || value =  545646546\n"
     ]
    }
   ],
   "source": [
    "# Sort Contacts:\n",
    "def sortcontacts(contacts):\n",
    "    for key in sorted(contacts.keys()):\n",
    "        print('key = ',key,\"||\",\"value = \",contacts[key])\n",
    "sortcontacts(contacts)"
   ]
  },
  {
   "cell_type": "code",
   "execution_count": null,
   "metadata": {},
   "outputs": [],
   "source": []
  }
 ],
 "metadata": {
  "kernelspec": {
   "display_name": "Python 3",
   "language": "python",
   "name": "python3"
  },
  "language_info": {
   "codemirror_mode": {
    "name": "ipython",
    "version": 3
   },
   "file_extension": ".py",
   "mimetype": "text/x-python",
   "name": "python",
   "nbconvert_exporter": "python",
   "pygments_lexer": "ipython3",
   "version": "3.8.5"
  }
 },
 "nbformat": 4,
 "nbformat_minor": 4
}
